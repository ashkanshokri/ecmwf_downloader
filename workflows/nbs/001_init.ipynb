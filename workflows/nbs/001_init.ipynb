{
 "cells": [
  {
   "cell_type": "code",
   "execution_count": 45,
   "metadata": {},
   "outputs": [
    {
     "name": "stdout",
     "output_type": "stream",
     "text": [
      "The autoreload extension is already loaded. To reload it, use:\n",
      "  %reload_ext autoreload\n"
     ]
    }
   ],
   "source": [
    "%load_ext autoreload\n",
    "%autoreload 2\n",
    "\n",
    "\n",
    "import ecmwf.data as ecdata\n",
    "from ecmwf.opendata import Client\n",
    "from pathlib import Path\n",
    "from ecmwf_downloader.config.config import Config\n",
    "from ecmwf_downloader import helpers as h\n",
    "import shutil\n",
    "import os\n",
    "\n",
    "def get_raw_data(config):\n",
    "    temp_filename = Path(config['temp_filename'])\n",
    "    temp_filename.parent.mkdir(exist_ok=True)\n",
    "    client = Client(source=config['source'])\n",
    "    client.retrieve(config.request, temp_filename)\n",
    "\n",
    "def postprocess(config):\n",
    "    temp_filename=config['temp_filename']\n",
    "    save_dir = Path(config['save_dir'])\n",
    "    save_dir.mkdir(exist_ok=True, parents=True)\n",
    "\n",
    "    data = ecdata.read(temp_filename)\n",
    "    date = h.get_grib_date(data).strftime('%Y%m%d')    \n",
    "    \n",
    "    # perhaps seprate files: data.select...\n",
    "    shutil.copy(temp_filename, save_dir/f'{date}.grib')\n",
    "    os.remove(temp_filename)\n",
    "\n",
    "def get_data(config):\n",
    "    get_raw_data(config)\n",
    "    postprocess(config)    \n"
   ]
  },
  {
   "cell_type": "code",
   "execution_count": 46,
   "metadata": {},
   "outputs": [
    {
     "name": "stdout",
     "output_type": "stream",
     "text": [
      "set() ['cf', 'pf']\n",
      "set() ['0', '24', '48', '72']\n",
      "set() ['100u', '100v', '10u', '10v', '2d', '2t', 'asn', 'cape', 'd', 'gh', 'lsm', 'msl', 'q', 'r', 'ro', 'skt', 'sp', 'ssr', 'ssrd', 'st', 'stl2', 'stl3', 'stl4', 'str', 'strd', 'swvl1', 'swvl2', 'swvl3', 'swvl4', 't', 'tcwv', 'tp', 'ttr', 'u', 'v', 'vo', 'w']\n"
     ]
    },
    {
     "data": {
      "application/vnd.jupyter.widget-view+json": {
       "model_id": "1c1a9967defc4243825bfd1def32e06d",
       "version_major": 2,
       "version_minor": 0
      },
      "text/plain": [
       "<multiple>:   0%|          | 0.00/2.47M [00:00<?, ?B/s]"
      ]
     },
     "metadata": {},
     "output_type": "display_data"
    }
   ],
   "source": [
    "config = Config()\n",
    "get_data(config)"
   ]
  },
  {
   "cell_type": "code",
   "execution_count": 50,
   "metadata": {},
   "outputs": [
    {
     "data": {
      "text/plain": [
       "array([[-180.  , -179.75, -179.5 , ...,  179.25,  179.5 ,  179.75],\n",
       "       [-180.  , -179.75, -179.5 , ...,  179.25,  179.5 ,  179.75],\n",
       "       [-180.  , -179.75, -179.5 , ...,  179.25,  179.5 ,  179.75],\n",
       "       [-180.  , -179.75, -179.5 , ...,  179.25,  179.5 ,  179.75]])"
      ]
     },
     "execution_count": 50,
     "metadata": {},
     "output_type": "execute_result"
    }
   ],
   "source": [
    "data = ecdata.read(\n",
    "    '/Users/sho108/projects/ecmwf_downloader/workflows/nbs/downloads/20240819.grib'\n",
    ")\n",
    "\n",
    "data.longitudes()"
   ]
  }
 ],
 "metadata": {
  "kernelspec": {
   "display_name": "ecmwf-downloader-1WfUOZFL-py3.10",
   "language": "python",
   "name": "python3"
  },
  "language_info": {
   "codemirror_mode": {
    "name": "ipython",
    "version": 3
   },
   "file_extension": ".py",
   "mimetype": "text/x-python",
   "name": "python",
   "nbconvert_exporter": "python",
   "pygments_lexer": "ipython3",
   "version": "3.10.12"
  },
  "orig_nbformat": 4
 },
 "nbformat": 4,
 "nbformat_minor": 2
}
