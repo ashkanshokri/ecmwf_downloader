{
 "cells": [
  {
   "cell_type": "code",
   "execution_count": 4,
   "metadata": {},
   "outputs": [
    {
     "name": "stdout",
     "output_type": "stream",
     "text": [
      "1005\n",
      "20240825\n"
     ]
    }
   ],
   "source": [
    "from ecmwf_downloader import helpers as h\n",
    "# Example usage:\n",
    "numeric_date = 1000  # Example of a numeric date\n",
    "string_date = \"20240820\"\n",
    "string_date_format = \"%Y%m%d\"\n",
    "\n",
    "# Adding an offset of 5 days\n",
    "print(h.adjust_date(numeric_date, 5))  # Output: 1005\n",
    "print(h.adjust_date(string_date, 5, string_date_format))   # Output: 2024-08-25\n"
   ]
  },
  {
   "cell_type": "code",
   "execution_count": null,
   "metadata": {},
   "outputs": [],
   "source": []
  }
 ],
 "metadata": {
  "kernelspec": {
   "display_name": "ecmwf-downloader-1WfUOZFL-py3.10",
   "language": "python",
   "name": "python3"
  },
  "language_info": {
   "codemirror_mode": {
    "name": "ipython",
    "version": 3
   },
   "file_extension": ".py",
   "mimetype": "text/x-python",
   "name": "python",
   "nbconvert_exporter": "python",
   "pygments_lexer": "ipython3",
   "version": "3.10.12"
  },
  "orig_nbformat": 4
 },
 "nbformat": 4,
 "nbformat_minor": 2
}
