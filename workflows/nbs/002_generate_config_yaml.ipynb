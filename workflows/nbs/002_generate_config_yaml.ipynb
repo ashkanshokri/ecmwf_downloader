{
 "cells": [
  {
   "cell_type": "code",
   "execution_count": 4,
   "metadata": {},
   "outputs": [
    {
     "name": "stdout",
     "output_type": "stream",
     "text": [
      "The autoreload extension is already loaded. To reload it, use:\n",
      "  %reload_ext autoreload\n"
     ]
    }
   ],
   "source": [
    "%load_ext autoreload\n",
    "%autoreload 2\n",
    "\n",
    "from ecmwf_downloader.config.config import Config\n",
    "all_steps = list(range(0, 145, 3))+list(range(150, 240, 6))\n",
    "\n",
    "config = Config(save_dir='./downloads', type=['pf'], step=[0,3,], source='ecmwf', name='test')\n",
    "config['save_dir'] = None\n",
    "config.save_to_yaml('/Users/sho108/projects/ecmwf_downloader/ecmwf_downloader/config/configs/test_config.yaml')\n",
    "\n",
    "config = Config(save_dir='./downloads', name='tp', type=['pf', 'cf'], step=all_steps, source='ecmwf')\n",
    "config['save_dir'] = None\n",
    "config.save_to_yaml('/Users/sho108/projects/ecmwf_downloader/ecmwf_downloader/config/configs/tp.yaml')\n",
    "\n",
    "\n",
    "config = Config(save_dir='./downloads', type=['em', 'es'], step=all_steps, source='ecmwf', name='mean_std', param=['ssr', '2t', 'msl', 'cape', 'tcwv'])\n",
    "config['save_dir'] = None\n",
    "config.save_to_yaml('/Users/sho108/projects/ecmwf_downloader/ecmwf_downloader/config/configs/mean_std.yaml')"
   ]
  },
  {
   "cell_type": "code",
   "execution_count": 2,
   "metadata": {},
   "outputs": [],
   "source": []
  }
 ],
 "metadata": {
  "kernelspec": {
   "display_name": "ecmwf-downloader-1WfUOZFL-py3.10",
   "language": "python",
   "name": "python3"
  },
  "language_info": {
   "codemirror_mode": {
    "name": "ipython",
    "version": 3
   },
   "file_extension": ".py",
   "mimetype": "text/x-python",
   "name": "python",
   "nbconvert_exporter": "python",
   "pygments_lexer": "ipython3",
   "version": "3.10.12"
  },
  "orig_nbformat": 4
 },
 "nbformat": 4,
 "nbformat_minor": 2
}
